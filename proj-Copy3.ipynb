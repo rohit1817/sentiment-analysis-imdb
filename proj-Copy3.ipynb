{
 "cells": [
  {
   "cell_type": "code",
   "execution_count": 1,
   "id": "2d4f2701",
   "metadata": {},
   "outputs": [
    {
     "data": {
      "text/html": [
       "<div>\n",
       "<style scoped>\n",
       "    .dataframe tbody tr th:only-of-type {\n",
       "        vertical-align: middle;\n",
       "    }\n",
       "\n",
       "    .dataframe tbody tr th {\n",
       "        vertical-align: top;\n",
       "    }\n",
       "\n",
       "    .dataframe thead th {\n",
       "        text-align: right;\n",
       "    }\n",
       "</style>\n",
       "<table border=\"1\" class=\"dataframe\">\n",
       "  <thead>\n",
       "    <tr style=\"text-align: right;\">\n",
       "      <th></th>\n",
       "      <th>review</th>\n",
       "      <th>sentiment</th>\n",
       "    </tr>\n",
       "  </thead>\n",
       "  <tbody>\n",
       "    <tr>\n",
       "      <th>0</th>\n",
       "      <td>One of the other reviewers has mentioned that ...</td>\n",
       "      <td>positive</td>\n",
       "    </tr>\n",
       "    <tr>\n",
       "      <th>1</th>\n",
       "      <td>A wonderful little production. &lt;br /&gt;&lt;br /&gt;The...</td>\n",
       "      <td>positive</td>\n",
       "    </tr>\n",
       "    <tr>\n",
       "      <th>2</th>\n",
       "      <td>I thought this was a wonderful way to spend ti...</td>\n",
       "      <td>positive</td>\n",
       "    </tr>\n",
       "    <tr>\n",
       "      <th>3</th>\n",
       "      <td>Basically there's a family where a little boy ...</td>\n",
       "      <td>negative</td>\n",
       "    </tr>\n",
       "    <tr>\n",
       "      <th>4</th>\n",
       "      <td>Petter Mattei's \"Love in the Time of Money\" is...</td>\n",
       "      <td>positive</td>\n",
       "    </tr>\n",
       "  </tbody>\n",
       "</table>\n",
       "</div>"
      ],
      "text/plain": [
       "                                              review sentiment\n",
       "0  One of the other reviewers has mentioned that ...  positive\n",
       "1  A wonderful little production. <br /><br />The...  positive\n",
       "2  I thought this was a wonderful way to spend ti...  positive\n",
       "3  Basically there's a family where a little boy ...  negative\n",
       "4  Petter Mattei's \"Love in the Time of Money\" is...  positive"
      ]
     },
     "execution_count": 1,
     "metadata": {},
     "output_type": "execute_result"
    }
   ],
   "source": [
    "import pandas as pd\n",
    "import numpy as np\n",
    "from sklearn import preprocessing\n",
    "import warnings\n",
    "warnings.filterwarnings('ignore')\n",
    "\n",
    "\n",
    "data = pd.read_csv(\"F:\\cis660\\IMDB Dataset.csv\", encoding = 'latin1')\n",
    "\n",
    "data.head()"
   ]
  },
  {
   "cell_type": "code",
   "execution_count": 2,
   "id": "9719e8fb",
   "metadata": {},
   "outputs": [
    {
     "data": {
      "text/plain": [
       "0"
      ]
     },
     "execution_count": 2,
     "metadata": {},
     "output_type": "execute_result"
    }
   ],
   "source": [
    "#Checking for null values\n",
    "\n",
    "data.isna().sum().sum()"
   ]
  },
  {
   "cell_type": "code",
   "execution_count": 3,
   "id": "c116fa28",
   "metadata": {},
   "outputs": [],
   "source": [
    "df = data"
   ]
  },
  {
   "cell_type": "code",
   "execution_count": 5,
   "id": "dee8a5af",
   "metadata": {},
   "outputs": [
    {
     "data": {
      "text/plain": [
       "count        50000\n",
       "unique           2\n",
       "top       positive\n",
       "freq         25000\n",
       "Name: sentiment, dtype: object"
      ]
     },
     "execution_count": 5,
     "metadata": {},
     "output_type": "execute_result"
    }
   ],
   "source": [
    "data['sentiment'].describe()"
   ]
  },
  {
   "cell_type": "code",
   "execution_count": 6,
   "id": "72c5612b",
   "metadata": {},
   "outputs": [],
   "source": [
    "#Data preprocessing methods\n",
    "\n",
    "import nltk\n",
    "import re\n",
    "from bs4 import BeautifulSoup\n",
    "from nltk.tokenize.toktok import ToktokTokenizer\n",
    "from nltk.corpus import stopwords\n",
    "stop = set(stopwords.words('english'))\n",
    "\n",
    "#To tokenize words\n",
    "tokenizer = ToktokTokenizer()\n",
    "stopword_list = nltk.corpus.stopwords.words('english')\n",
    "\n",
    "\n",
    "#Changing into lowercase\n",
    "df['review'].str.lower()\n",
    "\n",
    "\n",
    "#Removing the html strips \n",
    "def strip_html(x):\n",
    "    soup = BeautifulSoup(x, \"html.parser\")\n",
    "    return soup.get_text()\n",
    "\n",
    "#To remove the brackets\n",
    "def remove_brac(x):\n",
    "    return re.sub('\\[[^]]*\\]', '', x)\n",
    "\n",
    "#Remove special characters\n",
    "def remove_sp_char(x):\n",
    "    sp_char = r'[^a-zA-z0-9\\s]'\n",
    "    x = re.sub(sp_char, '', x)\n",
    "    return x\n",
    "\n",
    "#removing Stopwords\n",
    "def remove_stopwords(x):\n",
    "    tokens = tokenizer.tokenize(x)\n",
    "    tokens = [token.strip() for token in tokens]\n",
    "    filtered_tokens = [token for token in tokens if token not in stopword_list]    \n",
    "    filtered_text=' '.join(filtered_tokens)\n",
    "    return filtered_text\n",
    "\n",
    "#Stemming\n",
    "def stemming(x):\n",
    "    ps = nltk.porter.PorterStemmer()\n",
    "    x=' '.join([ps.stem(word) for word in x.split()])\n",
    "    return x\n",
    "\n",
    "\n",
    "def remove_noise(x):\n",
    "    x = strip_html(x)\n",
    "    x = remove_brac(x)\n",
    "    x = remove_sp_char(x)\n",
    "    x = remove_stopwords(x)\n",
    "    x = stemming(x)\n",
    "    return x\n",
    "\n",
    "#Removing noise from reviews\n",
    "df['review'] = df['review'].apply(remove_noise)"
   ]
  },
  {
   "cell_type": "code",
   "execution_count": 7,
   "id": "e8b11c45",
   "metadata": {},
   "outputs": [
    {
     "data": {
      "text/html": [
       "<div>\n",
       "<style scoped>\n",
       "    .dataframe tbody tr th:only-of-type {\n",
       "        vertical-align: middle;\n",
       "    }\n",
       "\n",
       "    .dataframe tbody tr th {\n",
       "        vertical-align: top;\n",
       "    }\n",
       "\n",
       "    .dataframe thead th {\n",
       "        text-align: right;\n",
       "    }\n",
       "</style>\n",
       "<table border=\"1\" class=\"dataframe\">\n",
       "  <thead>\n",
       "    <tr style=\"text-align: right;\">\n",
       "      <th></th>\n",
       "      <th>review</th>\n",
       "      <th>sentiment</th>\n",
       "    </tr>\n",
       "  </thead>\n",
       "  <tbody>\n",
       "    <tr>\n",
       "      <th>0</th>\n",
       "      <td>one review mention watch 1 oz episod youll hoo...</td>\n",
       "      <td>positive</td>\n",
       "    </tr>\n",
       "    <tr>\n",
       "      <th>1</th>\n",
       "      <td>a wonder littl product the film techniqu unass...</td>\n",
       "      <td>positive</td>\n",
       "    </tr>\n",
       "    <tr>\n",
       "      <th>2</th>\n",
       "      <td>i thought wonder way spend time hot summer wee...</td>\n",
       "      <td>positive</td>\n",
       "    </tr>\n",
       "    <tr>\n",
       "      <th>3</th>\n",
       "      <td>basic there famili littl boy jake think there ...</td>\n",
       "      <td>negative</td>\n",
       "    </tr>\n",
       "    <tr>\n",
       "      <th>4</th>\n",
       "      <td>petter mattei love time money visual stun film...</td>\n",
       "      <td>positive</td>\n",
       "    </tr>\n",
       "  </tbody>\n",
       "</table>\n",
       "</div>"
      ],
      "text/plain": [
       "                                              review sentiment\n",
       "0  one review mention watch 1 oz episod youll hoo...  positive\n",
       "1  a wonder littl product the film techniqu unass...  positive\n",
       "2  i thought wonder way spend time hot summer wee...  positive\n",
       "3  basic there famili littl boy jake think there ...  negative\n",
       "4  petter mattei love time money visual stun film...  positive"
      ]
     },
     "execution_count": 7,
     "metadata": {},
     "output_type": "execute_result"
    }
   ],
   "source": [
    "df.head()"
   ]
  },
  {
   "cell_type": "code",
   "execution_count": 8,
   "id": "f43f8a97",
   "metadata": {},
   "outputs": [],
   "source": [
    "label_encoder = preprocessing.LabelEncoder()\n",
    "df['sentiment']= label_encoder.fit_transform(df['sentiment'])\n",
    "\n",
    "#Positive - 1\n",
    "#Negative - 0\n"
   ]
  },
  {
   "cell_type": "code",
   "execution_count": 9,
   "id": "3ef6593b",
   "metadata": {},
   "outputs": [
    {
     "data": {
      "text/html": [
       "<div>\n",
       "<style scoped>\n",
       "    .dataframe tbody tr th:only-of-type {\n",
       "        vertical-align: middle;\n",
       "    }\n",
       "\n",
       "    .dataframe tbody tr th {\n",
       "        vertical-align: top;\n",
       "    }\n",
       "\n",
       "    .dataframe thead th {\n",
       "        text-align: right;\n",
       "    }\n",
       "</style>\n",
       "<table border=\"1\" class=\"dataframe\">\n",
       "  <thead>\n",
       "    <tr style=\"text-align: right;\">\n",
       "      <th></th>\n",
       "      <th>review</th>\n",
       "      <th>sentiment</th>\n",
       "    </tr>\n",
       "  </thead>\n",
       "  <tbody>\n",
       "    <tr>\n",
       "      <th>0</th>\n",
       "      <td>one review mention watch 1 oz episod youll hoo...</td>\n",
       "      <td>1</td>\n",
       "    </tr>\n",
       "    <tr>\n",
       "      <th>1</th>\n",
       "      <td>a wonder littl product the film techniqu unass...</td>\n",
       "      <td>1</td>\n",
       "    </tr>\n",
       "    <tr>\n",
       "      <th>2</th>\n",
       "      <td>i thought wonder way spend time hot summer wee...</td>\n",
       "      <td>1</td>\n",
       "    </tr>\n",
       "    <tr>\n",
       "      <th>3</th>\n",
       "      <td>basic there famili littl boy jake think there ...</td>\n",
       "      <td>0</td>\n",
       "    </tr>\n",
       "    <tr>\n",
       "      <th>4</th>\n",
       "      <td>petter mattei love time money visual stun film...</td>\n",
       "      <td>1</td>\n",
       "    </tr>\n",
       "  </tbody>\n",
       "</table>\n",
       "</div>"
      ],
      "text/plain": [
       "                                              review  sentiment\n",
       "0  one review mention watch 1 oz episod youll hoo...          1\n",
       "1  a wonder littl product the film techniqu unass...          1\n",
       "2  i thought wonder way spend time hot summer wee...          1\n",
       "3  basic there famili littl boy jake think there ...          0\n",
       "4  petter mattei love time money visual stun film...          1"
      ]
     },
     "execution_count": 9,
     "metadata": {},
     "output_type": "execute_result"
    }
   ],
   "source": [
    "df.head()"
   ]
  },
  {
   "cell_type": "code",
   "execution_count": 10,
   "id": "6b1dc904",
   "metadata": {},
   "outputs": [],
   "source": [
    "a = np.array(df['review'])\n",
    "b = np.array(df['sentiment'])"
   ]
  },
  {
   "cell_type": "markdown",
   "id": "714960c7",
   "metadata": {},
   "source": [
    "# Tfidf"
   ]
  },
  {
   "cell_type": "code",
   "execution_count": 11,
   "id": "f7e5006f",
   "metadata": {},
   "outputs": [],
   "source": [
    "from sklearn.feature_extraction.text import TfidfVectorizer\n",
    "\n",
    "tv=TfidfVectorizer()\n",
    "tv_review = tv.fit_transform(a)"
   ]
  },
  {
   "cell_type": "code",
   "execution_count": 12,
   "id": "d2c915b2",
   "metadata": {},
   "outputs": [],
   "source": [
    "from sklearn.model_selection import train_test_split\n",
    "\n",
    "tv_X = tv_review\n",
    "Y = b\n",
    "\n",
    "tv_X_train, tv_X_test, tv_Y_train, tv_Y_test = train_test_split(tv_X, Y, random_state=42, train_size = 0.60)"
   ]
  },
  {
   "cell_type": "markdown",
   "id": "a6f9163a",
   "metadata": {},
   "source": [
    "# LinearSVC"
   ]
  },
  {
   "cell_type": "code",
   "execution_count": 13,
   "id": "52fb451c",
   "metadata": {},
   "outputs": [
    {
     "data": {
      "text/plain": [
       "LinearSVC()"
      ]
     },
     "execution_count": 13,
     "metadata": {},
     "output_type": "execute_result"
    }
   ],
   "source": [
    "from sklearn.svm import LinearSVC\n",
    "\n",
    "tv_svm_clf = LinearSVC()\n",
    "\n",
    "tv_svm_clf.fit(tv_X_train, tv_Y_train)"
   ]
  },
  {
   "cell_type": "code",
   "execution_count": 14,
   "id": "e9ba1f5e",
   "metadata": {},
   "outputs": [],
   "source": [
    "tv_svm_clf_pred = tv_svm_clf.predict(tv_X_test)\n"
   ]
  },
  {
   "cell_type": "code",
   "execution_count": 15,
   "id": "194ca4a1",
   "metadata": {},
   "outputs": [],
   "source": [
    "from sklearn import metrics\n",
    "from sklearn.metrics import classification_report \n",
    "tv_svm_clf_accuracy_score = metrics.accuracy_score(tv_svm_clf_pred , tv_Y_test)"
   ]
  },
  {
   "cell_type": "code",
   "execution_count": 16,
   "id": "e44689be",
   "metadata": {},
   "outputs": [
    {
     "name": "stdout",
     "output_type": "stream",
     "text": [
      "The accuracy score of tfidf model of svm classifier is  0.8895\n"
     ]
    }
   ],
   "source": [
    "print (\"The accuracy score of tfidf model of svm classifier is \",tv_svm_clf_accuracy_score)"
   ]
  },
  {
   "cell_type": "code",
   "execution_count": 17,
   "id": "76e858f8",
   "metadata": {
    "scrolled": true
   },
   "outputs": [
    {
     "name": "stdout",
     "output_type": "stream",
     "text": [
      "Classification report for tfidf model using svm classifier\n",
      "              precision    recall  f1-score   support\n",
      "\n",
      "    Negative       0.90      0.88      0.89      9989\n",
      "    Positive       0.88      0.90      0.89     10011\n",
      "\n",
      "    accuracy                           0.89     20000\n",
      "   macro avg       0.89      0.89      0.89     20000\n",
      "weighted avg       0.89      0.89      0.89     20000\n",
      "\n"
     ]
    }
   ],
   "source": [
    "target_names = ['Negative', 'Positive']\n",
    "print (\"Classification report for tfidf model using svm classifier\")\n",
    "print (classification_report(tv_Y_test, tv_svm_clf_pred, target_names=target_names))"
   ]
  },
  {
   "cell_type": "code",
   "execution_count": 19,
   "id": "847f4f66",
   "metadata": {},
   "outputs": [
    {
     "data": {
      "text/plain": [
       "array([[8769, 1220],\n",
       "       [ 990, 9021]], dtype=int64)"
      ]
     },
     "execution_count": 19,
     "metadata": {},
     "output_type": "execute_result"
    }
   ],
   "source": [
    "#Confusion matrix\n",
    "from sklearn.metrics import confusion_matrix\n",
    "confusion_matrix(tv_Y_test, tv_svm_clf_pred, labels=[0,1])"
   ]
  },
  {
   "cell_type": "markdown",
   "id": "a3085de9",
   "metadata": {},
   "source": [
    "# Prediction of new reviews"
   ]
  },
  {
   "cell_type": "code",
   "execution_count": 20,
   "id": "8a18139a",
   "metadata": {},
   "outputs": [],
   "source": [
    "custom_review=['This is a good movie the action scenes are amazing. the acting is god tier. must recommend']\n",
    "\n",
    "custom_review2 = ['This movie is bad']"
   ]
  },
  {
   "cell_type": "code",
   "execution_count": 21,
   "id": "91a374c5",
   "metadata": {},
   "outputs": [],
   "source": [
    "cr1 = tv.transform(custom_review)\n",
    "\n",
    "cr2 = tv.transform(custom_review2)"
   ]
  },
  {
   "cell_type": "code",
   "execution_count": 22,
   "id": "bf34e959",
   "metadata": {},
   "outputs": [],
   "source": [
    "#print (cr1)"
   ]
  },
  {
   "cell_type": "code",
   "execution_count": 23,
   "id": "053b1d38",
   "metadata": {},
   "outputs": [
    {
     "name": "stdout",
     "output_type": "stream",
     "text": [
      "the sentiment of the custom review 1 is [1]\n",
      "the sentiment of the custom review 2 is [0]\n"
     ]
    }
   ],
   "source": [
    "print ('the sentiment of the custom review 1 is',tv_svm_clf.predict(cr1))\n",
    "print ('the sentiment of the custom review 2 is',tv_svm_clf.predict(cr2))"
   ]
  },
  {
   "cell_type": "markdown",
   "id": "5d60c0de",
   "metadata": {},
   "source": [
    "# Multinomial NB"
   ]
  },
  {
   "cell_type": "code",
   "execution_count": 24,
   "id": "5480f0d8",
   "metadata": {},
   "outputs": [],
   "source": [
    "from sklearn.naive_bayes import MultinomialNB\n",
    "\n",
    "tv_mnb = MultinomialNB()\n",
    "tv_mnb.fit(tv_X_train, tv_Y_train)\n",
    "y_pred = tv_mnb.predict(tv_X_test)"
   ]
  },
  {
   "cell_type": "code",
   "execution_count": 25,
   "id": "d70b5c7f",
   "metadata": {},
   "outputs": [],
   "source": [
    "tv_mnb_pred = tv_mnb.predict(tv_X_test)\n"
   ]
  },
  {
   "cell_type": "code",
   "execution_count": 26,
   "id": "9feeb8e0",
   "metadata": {},
   "outputs": [],
   "source": [
    "tv_mnb_accuracy_score = metrics.accuracy_score(tv_mnb_pred , tv_Y_test)"
   ]
  },
  {
   "cell_type": "code",
   "execution_count": 27,
   "id": "15999432",
   "metadata": {},
   "outputs": [
    {
     "name": "stdout",
     "output_type": "stream",
     "text": [
      "The accuracy score of tfidf model using multinomialNB is  0.8592\n"
     ]
    }
   ],
   "source": [
    " print (\"The accuracy score of tfidf model using multinomialNB is \",tv_mnb_accuracy_score)"
   ]
  },
  {
   "cell_type": "code",
   "execution_count": 28,
   "id": "0af8cb23",
   "metadata": {},
   "outputs": [
    {
     "name": "stdout",
     "output_type": "stream",
     "text": [
      "Classification report for tfidf model using multinomial NB\n",
      "              precision    recall  f1-score   support\n",
      "\n",
      "    Negative       0.85      0.87      0.86      9989\n",
      "    Positive       0.87      0.84      0.86     10011\n",
      "\n",
      "    accuracy                           0.86     20000\n",
      "   macro avg       0.86      0.86      0.86     20000\n",
      "weighted avg       0.86      0.86      0.86     20000\n",
      "\n"
     ]
    }
   ],
   "source": [
    "print (\"Classification report for tfidf model using multinomial NB\")\n",
    "print (classification_report(tv_Y_test, tv_mnb_pred, target_names=target_names))"
   ]
  },
  {
   "cell_type": "code",
   "execution_count": 30,
   "id": "58e6c0e7",
   "metadata": {
    "scrolled": true
   },
   "outputs": [
    {
     "name": "stdout",
     "output_type": "stream",
     "text": [
      "The confusion matrix for Multinomial NB is\n"
     ]
    },
    {
     "data": {
      "text/plain": [
       "array([[8729, 1260],\n",
       "       [1556, 8455]], dtype=int64)"
      ]
     },
     "execution_count": 30,
     "metadata": {},
     "output_type": "execute_result"
    }
   ],
   "source": [
    "print(\"The confusion matrix for Multinomial NB is\")\n",
    "confusion_matrix(tv_Y_test, tv_mnb_pred, labels=[0,1])"
   ]
  },
  {
   "cell_type": "markdown",
   "id": "c043abb1",
   "metadata": {},
   "source": [
    "# Decision tree classifier"
   ]
  },
  {
   "cell_type": "code",
   "execution_count": 31,
   "id": "a4bc79a4",
   "metadata": {},
   "outputs": [
    {
     "data": {
      "text/plain": [
       "DecisionTreeClassifier(random_state=0)"
      ]
     },
     "execution_count": 31,
     "metadata": {},
     "output_type": "execute_result"
    }
   ],
   "source": [
    "from sklearn.tree import DecisionTreeClassifier\n",
    "\n",
    "tv_clf = DecisionTreeClassifier(random_state=0)\n",
    "\n",
    "tv_clf.fit(tv_X_train, tv_Y_train)\n"
   ]
  },
  {
   "cell_type": "code",
   "execution_count": 32,
   "id": "275a4a17",
   "metadata": {},
   "outputs": [],
   "source": [
    "tv_clf_pred = tv_clf.predict(tv_X_test)\n"
   ]
  },
  {
   "cell_type": "code",
   "execution_count": 33,
   "id": "c05aa480",
   "metadata": {},
   "outputs": [],
   "source": [
    "tv_clf_accuracy_score = metrics.accuracy_score(tv_clf_pred , tv_Y_test)"
   ]
  },
  {
   "cell_type": "code",
   "execution_count": 34,
   "id": "1c68710b",
   "metadata": {},
   "outputs": [
    {
     "name": "stdout",
     "output_type": "stream",
     "text": [
      "The accuracy score of tfidf model of decision tree classifier is  0.71835\n"
     ]
    }
   ],
   "source": [
    "print (\"The accuracy score of tfidf model of decision tree classifier is \",tv_clf_accuracy_score)"
   ]
  },
  {
   "cell_type": "code",
   "execution_count": 35,
   "id": "2c31c9f8",
   "metadata": {},
   "outputs": [
    {
     "name": "stdout",
     "output_type": "stream",
     "text": [
      "Classification report for tfidf model using Decision tree classifier\n",
      "              precision    recall  f1-score   support\n",
      "\n",
      "    Negative       0.72      0.72      0.72      9989\n",
      "    Positive       0.72      0.72      0.72     10011\n",
      "\n",
      "    accuracy                           0.72     20000\n",
      "   macro avg       0.72      0.72      0.72     20000\n",
      "weighted avg       0.72      0.72      0.72     20000\n",
      "\n"
     ]
    }
   ],
   "source": [
    "print (\"Classification report for tfidf model using Decision tree classifier\")\n",
    "print (classification_report(tv_Y_test, tv_clf_pred, target_names=target_names))"
   ]
  },
  {
   "cell_type": "code",
   "execution_count": 37,
   "id": "edbe33bc",
   "metadata": {},
   "outputs": [
    {
     "name": "stdout",
     "output_type": "stream",
     "text": [
      "The confusion matrix for Decision tree classifier is\n"
     ]
    },
    {
     "data": {
      "text/plain": [
       "array([[8729, 1260],\n",
       "       [1556, 8455]], dtype=int64)"
      ]
     },
     "execution_count": 37,
     "metadata": {},
     "output_type": "execute_result"
    }
   ],
   "source": [
    "print(\"The confusion matrix for Decision tree classifier is\")\n",
    "confusion_matrix(tv_Y_test, tv_mnb_pred, labels=[0,1])"
   ]
  },
  {
   "cell_type": "code",
   "execution_count": null,
   "id": "4fdab829",
   "metadata": {},
   "outputs": [],
   "source": []
  }
 ],
 "metadata": {
  "kernelspec": {
   "display_name": "Python 3 (ipykernel)",
   "language": "python",
   "name": "python3"
  },
  "language_info": {
   "codemirror_mode": {
    "name": "ipython",
    "version": 3
   },
   "file_extension": ".py",
   "mimetype": "text/x-python",
   "name": "python",
   "nbconvert_exporter": "python",
   "pygments_lexer": "ipython3",
   "version": "3.9.12"
  }
 },
 "nbformat": 4,
 "nbformat_minor": 5
}
