{
 "cells": [
  {
   "cell_type": "code",
   "execution_count": 1,
   "id": "2d4f2701",
   "metadata": {},
   "outputs": [
    {
     "data": {
      "text/html": [
       "<div>\n",
       "<style scoped>\n",
       "    .dataframe tbody tr th:only-of-type {\n",
       "        vertical-align: middle;\n",
       "    }\n",
       "\n",
       "    .dataframe tbody tr th {\n",
       "        vertical-align: top;\n",
       "    }\n",
       "\n",
       "    .dataframe thead th {\n",
       "        text-align: right;\n",
       "    }\n",
       "</style>\n",
       "<table border=\"1\" class=\"dataframe\">\n",
       "  <thead>\n",
       "    <tr style=\"text-align: right;\">\n",
       "      <th></th>\n",
       "      <th>review</th>\n",
       "      <th>sentiment</th>\n",
       "    </tr>\n",
       "  </thead>\n",
       "  <tbody>\n",
       "    <tr>\n",
       "      <th>0</th>\n",
       "      <td>One of the other reviewers has mentioned that ...</td>\n",
       "      <td>positive</td>\n",
       "    </tr>\n",
       "    <tr>\n",
       "      <th>1</th>\n",
       "      <td>A wonderful little production. &lt;br /&gt;&lt;br /&gt;The...</td>\n",
       "      <td>positive</td>\n",
       "    </tr>\n",
       "    <tr>\n",
       "      <th>2</th>\n",
       "      <td>I thought this was a wonderful way to spend ti...</td>\n",
       "      <td>positive</td>\n",
       "    </tr>\n",
       "    <tr>\n",
       "      <th>3</th>\n",
       "      <td>Basically there's a family where a little boy ...</td>\n",
       "      <td>negative</td>\n",
       "    </tr>\n",
       "    <tr>\n",
       "      <th>4</th>\n",
       "      <td>Petter Mattei's \"Love in the Time of Money\" is...</td>\n",
       "      <td>positive</td>\n",
       "    </tr>\n",
       "  </tbody>\n",
       "</table>\n",
       "</div>"
      ],
      "text/plain": [
       "                                              review sentiment\n",
       "0  One of the other reviewers has mentioned that ...  positive\n",
       "1  A wonderful little production. <br /><br />The...  positive\n",
       "2  I thought this was a wonderful way to spend ti...  positive\n",
       "3  Basically there's a family where a little boy ...  negative\n",
       "4  Petter Mattei's \"Love in the Time of Money\" is...  positive"
      ]
     },
     "execution_count": 1,
     "metadata": {},
     "output_type": "execute_result"
    }
   ],
   "source": [
    "import pandas as pd\n",
    "import numpy as np\n",
    "from sklearn import preprocessing\n",
    "import warnings\n",
    "import matplotlib.pyplot as plt\n",
    "import seaborn as sns\n",
    "warnings.filterwarnings('ignore')\n",
    "\n",
    "\n",
    "data = pd.read_csv(\"F:\\cis660\\IMDB Dataset.csv\", encoding = 'latin1')\n",
    "\n",
    "data.head()"
   ]
  },
  {
   "cell_type": "code",
   "execution_count": 2,
   "id": "9719e8fb",
   "metadata": {},
   "outputs": [
    {
     "data": {
      "text/plain": [
       "0"
      ]
     },
     "execution_count": 2,
     "metadata": {},
     "output_type": "execute_result"
    }
   ],
   "source": [
    "#Checking for null values\n",
    "\n",
    "data.isna().sum().sum()"
   ]
  },
  {
   "cell_type": "code",
   "execution_count": 3,
   "id": "c116fa28",
   "metadata": {},
   "outputs": [],
   "source": [
    "df = data"
   ]
  },
  {
   "cell_type": "code",
   "execution_count": 4,
   "id": "0a844808",
   "metadata": {},
   "outputs": [
    {
     "data": {
      "text/html": [
       "<div>\n",
       "<style scoped>\n",
       "    .dataframe tbody tr th:only-of-type {\n",
       "        vertical-align: middle;\n",
       "    }\n",
       "\n",
       "    .dataframe tbody tr th {\n",
       "        vertical-align: top;\n",
       "    }\n",
       "\n",
       "    .dataframe thead th {\n",
       "        text-align: right;\n",
       "    }\n",
       "</style>\n",
       "<table border=\"1\" class=\"dataframe\">\n",
       "  <thead>\n",
       "    <tr style=\"text-align: right;\">\n",
       "      <th></th>\n",
       "      <th>review</th>\n",
       "      <th>sentiment</th>\n",
       "    </tr>\n",
       "  </thead>\n",
       "  <tbody>\n",
       "    <tr>\n",
       "      <th>count</th>\n",
       "      <td>50000</td>\n",
       "      <td>50000</td>\n",
       "    </tr>\n",
       "    <tr>\n",
       "      <th>unique</th>\n",
       "      <td>49582</td>\n",
       "      <td>2</td>\n",
       "    </tr>\n",
       "    <tr>\n",
       "      <th>top</th>\n",
       "      <td>Loved today's show!!! It was a variety and not...</td>\n",
       "      <td>positive</td>\n",
       "    </tr>\n",
       "    <tr>\n",
       "      <th>freq</th>\n",
       "      <td>5</td>\n",
       "      <td>25000</td>\n",
       "    </tr>\n",
       "  </tbody>\n",
       "</table>\n",
       "</div>"
      ],
      "text/plain": [
       "                                                   review sentiment\n",
       "count                                               50000     50000\n",
       "unique                                              49582         2\n",
       "top     Loved today's show!!! It was a variety and not...  positive\n",
       "freq                                                    5     25000"
      ]
     },
     "execution_count": 4,
     "metadata": {},
     "output_type": "execute_result"
    }
   ],
   "source": [
    "df.describe()"
   ]
  },
  {
   "cell_type": "code",
   "execution_count": 5,
   "id": "dee8a5af",
   "metadata": {},
   "outputs": [
    {
     "data": {
      "text/plain": [
       "count        50000\n",
       "unique           2\n",
       "top       positive\n",
       "freq         25000\n",
       "Name: sentiment, dtype: object"
      ]
     },
     "execution_count": 5,
     "metadata": {},
     "output_type": "execute_result"
    }
   ],
   "source": [
    "data['sentiment'].describe()"
   ]
  },
  {
   "cell_type": "code",
   "execution_count": 6,
   "id": "72c5612b",
   "metadata": {},
   "outputs": [],
   "source": [
    "#Data preprocessing methods\n",
    "\n",
    "import nltk\n",
    "import re\n",
    "from bs4 import BeautifulSoup\n",
    "from nltk.tokenize.toktok import ToktokTokenizer\n",
    "\n",
    "#To tokenize words\n",
    "tokenizer = ToktokTokenizer()\n",
    "stopword_list = nltk.corpus.stopwords.words('english')\n",
    "\n",
    "\n",
    "#Changing into lowercase\n",
    "df['review'].str.lower()\n",
    "\n",
    "\n",
    "#Removing the html strips \n",
    "def strip_html(x):\n",
    "    soup = BeautifulSoup(x, \"html.parser\")\n",
    "    return soup.get_text()\n",
    "\n",
    "#To remove the brackets\n",
    "def remove_brac(x):\n",
    "    return re.sub('\\[[^]]*\\]', '', x)\n",
    "\n",
    "#Remove special characters\n",
    "def remove_sp_char(x):\n",
    "    sp_char = r'[^a-zA-z\\s]'\n",
    "    x = re.sub(sp_char, '', x)\n",
    "    return x\n",
    "\n",
    "#removing Stopwords\n",
    "def remove_stopwords(x):\n",
    "    tokens = tokenizer.tokenize(x)\n",
    "    tokens = [token.strip() for token in tokens]\n",
    "    filtered_tokens = [token for token in tokens if token not in stopword_list]    \n",
    "    filtered_text=' '.join(filtered_tokens)\n",
    "    return filtered_text\n",
    "\n",
    "#Stemming\n",
    "def stemming(x):\n",
    "    ps = nltk.porter.PorterStemmer()\n",
    "    x=' '.join([ps.stem(word) for word in x.split()])\n",
    "    return x\n",
    "\n",
    "\n",
    "def remove_noise(x):\n",
    "    x = strip_html(x)\n",
    "    x = remove_brac(x)\n",
    "    x = remove_sp_char(x)\n",
    "    x = remove_stopwords(x)\n",
    "    x = stemming(x)\n",
    "    return x\n",
    "\n",
    "#Removing noise from reviews\n",
    "df['review'] = df['review'].apply(remove_noise)"
   ]
  },
  {
   "cell_type": "code",
   "execution_count": 7,
   "id": "e8b11c45",
   "metadata": {},
   "outputs": [
    {
     "data": {
      "text/html": [
       "<div>\n",
       "<style scoped>\n",
       "    .dataframe tbody tr th:only-of-type {\n",
       "        vertical-align: middle;\n",
       "    }\n",
       "\n",
       "    .dataframe tbody tr th {\n",
       "        vertical-align: top;\n",
       "    }\n",
       "\n",
       "    .dataframe thead th {\n",
       "        text-align: right;\n",
       "    }\n",
       "</style>\n",
       "<table border=\"1\" class=\"dataframe\">\n",
       "  <thead>\n",
       "    <tr style=\"text-align: right;\">\n",
       "      <th></th>\n",
       "      <th>review</th>\n",
       "      <th>sentiment</th>\n",
       "    </tr>\n",
       "  </thead>\n",
       "  <tbody>\n",
       "    <tr>\n",
       "      <th>0</th>\n",
       "      <td>one review mention watch oz episod youll hook ...</td>\n",
       "      <td>positive</td>\n",
       "    </tr>\n",
       "    <tr>\n",
       "      <th>1</th>\n",
       "      <td>a wonder littl product the film techniqu unass...</td>\n",
       "      <td>positive</td>\n",
       "    </tr>\n",
       "    <tr>\n",
       "      <th>2</th>\n",
       "      <td>i thought wonder way spend time hot summer wee...</td>\n",
       "      <td>positive</td>\n",
       "    </tr>\n",
       "    <tr>\n",
       "      <th>3</th>\n",
       "      <td>basic there famili littl boy jake think there ...</td>\n",
       "      <td>negative</td>\n",
       "    </tr>\n",
       "    <tr>\n",
       "      <th>4</th>\n",
       "      <td>petter mattei love time money visual stun film...</td>\n",
       "      <td>positive</td>\n",
       "    </tr>\n",
       "  </tbody>\n",
       "</table>\n",
       "</div>"
      ],
      "text/plain": [
       "                                              review sentiment\n",
       "0  one review mention watch oz episod youll hook ...  positive\n",
       "1  a wonder littl product the film techniqu unass...  positive\n",
       "2  i thought wonder way spend time hot summer wee...  positive\n",
       "3  basic there famili littl boy jake think there ...  negative\n",
       "4  petter mattei love time money visual stun film...  positive"
      ]
     },
     "execution_count": 7,
     "metadata": {},
     "output_type": "execute_result"
    }
   ],
   "source": [
    "df.head()"
   ]
  },
  {
   "cell_type": "code",
   "execution_count": 8,
   "id": "f43f8a97",
   "metadata": {},
   "outputs": [],
   "source": [
    "label_encoder = preprocessing.LabelEncoder()\n",
    "df['sentiment']= label_encoder.fit_transform(df['sentiment'])\n",
    "\n",
    "#Positive - 1\n",
    "#Negative - 0\n"
   ]
  },
  {
   "cell_type": "code",
   "execution_count": 9,
   "id": "3ef6593b",
   "metadata": {},
   "outputs": [
    {
     "data": {
      "text/html": [
       "<div>\n",
       "<style scoped>\n",
       "    .dataframe tbody tr th:only-of-type {\n",
       "        vertical-align: middle;\n",
       "    }\n",
       "\n",
       "    .dataframe tbody tr th {\n",
       "        vertical-align: top;\n",
       "    }\n",
       "\n",
       "    .dataframe thead th {\n",
       "        text-align: right;\n",
       "    }\n",
       "</style>\n",
       "<table border=\"1\" class=\"dataframe\">\n",
       "  <thead>\n",
       "    <tr style=\"text-align: right;\">\n",
       "      <th></th>\n",
       "      <th>review</th>\n",
       "      <th>sentiment</th>\n",
       "    </tr>\n",
       "  </thead>\n",
       "  <tbody>\n",
       "    <tr>\n",
       "      <th>0</th>\n",
       "      <td>one review mention watch oz episod youll hook ...</td>\n",
       "      <td>1</td>\n",
       "    </tr>\n",
       "    <tr>\n",
       "      <th>1</th>\n",
       "      <td>a wonder littl product the film techniqu unass...</td>\n",
       "      <td>1</td>\n",
       "    </tr>\n",
       "    <tr>\n",
       "      <th>2</th>\n",
       "      <td>i thought wonder way spend time hot summer wee...</td>\n",
       "      <td>1</td>\n",
       "    </tr>\n",
       "    <tr>\n",
       "      <th>3</th>\n",
       "      <td>basic there famili littl boy jake think there ...</td>\n",
       "      <td>0</td>\n",
       "    </tr>\n",
       "    <tr>\n",
       "      <th>4</th>\n",
       "      <td>petter mattei love time money visual stun film...</td>\n",
       "      <td>1</td>\n",
       "    </tr>\n",
       "  </tbody>\n",
       "</table>\n",
       "</div>"
      ],
      "text/plain": [
       "                                              review  sentiment\n",
       "0  one review mention watch oz episod youll hook ...          1\n",
       "1  a wonder littl product the film techniqu unass...          1\n",
       "2  i thought wonder way spend time hot summer wee...          1\n",
       "3  basic there famili littl boy jake think there ...          0\n",
       "4  petter mattei love time money visual stun film...          1"
      ]
     },
     "execution_count": 9,
     "metadata": {},
     "output_type": "execute_result"
    }
   ],
   "source": [
    "df.head()"
   ]
  },
  {
   "cell_type": "code",
   "execution_count": 10,
   "id": "6b1dc904",
   "metadata": {},
   "outputs": [],
   "source": [
    "#a = np.array(df['review'])\n",
    "#b = np.array(df['sentiment'])"
   ]
  },
  {
   "cell_type": "markdown",
   "id": "714960c7",
   "metadata": {},
   "source": [
    "# Tfidf"
   ]
  },
  {
   "cell_type": "code",
   "execution_count": 11,
   "id": "f7e5006f",
   "metadata": {},
   "outputs": [],
   "source": [
    "from sklearn.feature_extraction.text import TfidfVectorizer\n",
    "\n",
    "tv=TfidfVectorizer()\n",
    "tv_review = tv.fit_transform(df['review'])"
   ]
  },
  {
   "cell_type": "code",
   "execution_count": 12,
   "id": "d2c915b2",
   "metadata": {},
   "outputs": [],
   "source": [
    "from sklearn.model_selection import train_test_split\n",
    "\n",
    "tv_X = tv_review\n",
    "Y = df['sentiment']\n",
    "\n",
    "tv_X_train, tv_X_test, tv_Y_train, tv_Y_test = train_test_split(tv_X, Y, random_state=42, train_size = 0.60)"
   ]
  },
  {
   "cell_type": "markdown",
   "id": "a6f9163a",
   "metadata": {},
   "source": [
    "# LinearSVC"
   ]
  },
  {
   "cell_type": "code",
   "execution_count": 13,
   "id": "52fb451c",
   "metadata": {},
   "outputs": [
    {
     "data": {
      "text/plain": [
       "LinearSVC()"
      ]
     },
     "execution_count": 13,
     "metadata": {},
     "output_type": "execute_result"
    }
   ],
   "source": [
    "from sklearn.svm import LinearSVC\n",
    "\n",
    "tv_svm_clf = LinearSVC()\n",
    "\n",
    "tv_svm_clf.fit(tv_X_train, tv_Y_train)"
   ]
  },
  {
   "cell_type": "code",
   "execution_count": 14,
   "id": "e9ba1f5e",
   "metadata": {},
   "outputs": [],
   "source": [
    "tv_svm_clf_pred = tv_svm_clf.predict(tv_X_test)\n"
   ]
  },
  {
   "cell_type": "code",
   "execution_count": 15,
   "id": "194ca4a1",
   "metadata": {},
   "outputs": [],
   "source": [
    "from sklearn import metrics\n",
    "from sklearn.metrics import classification_report \n",
    "tv_svm_clf_accuracy_score = metrics.accuracy_score(tv_svm_clf_pred , tv_Y_test)"
   ]
  },
  {
   "cell_type": "code",
   "execution_count": 16,
   "id": "e44689be",
   "metadata": {},
   "outputs": [
    {
     "name": "stdout",
     "output_type": "stream",
     "text": [
      "The accuracy score of tfidf model of svm classifier is  88.885\n"
     ]
    }
   ],
   "source": [
    "print (\"The accuracy score of tfidf model of svm classifier is \",(tv_svm_clf_accuracy_score*100))"
   ]
  },
  {
   "cell_type": "code",
   "execution_count": 17,
   "id": "76e858f8",
   "metadata": {
    "scrolled": true
   },
   "outputs": [
    {
     "name": "stdout",
     "output_type": "stream",
     "text": [
      "Classification report for tfidf model using svm classifier\n",
      "              precision    recall  f1-score   support\n",
      "\n",
      "    Negative       0.90      0.88      0.89      9989\n",
      "    Positive       0.88      0.90      0.89     10011\n",
      "\n",
      "    accuracy                           0.89     20000\n",
      "   macro avg       0.89      0.89      0.89     20000\n",
      "weighted avg       0.89      0.89      0.89     20000\n",
      "\n"
     ]
    }
   ],
   "source": [
    "target_names = ['Negative', 'Positive']\n",
    "print (\"Classification report for tfidf model using svm classifier\")\n",
    "print (classification_report(tv_Y_test, tv_svm_clf_pred, target_names=target_names))"
   ]
  },
  {
   "cell_type": "code",
   "execution_count": 18,
   "id": "847f4f66",
   "metadata": {},
   "outputs": [
    {
     "name": "stdout",
     "output_type": "stream",
     "text": [
      "[[8769 1220]\n",
      " [1003 9008]]\n"
     ]
    }
   ],
   "source": [
    "#Confusion matrix\n",
    "from sklearn.metrics import confusion_matrix, plot_confusion_matrix\n",
    "svm_cf_matrix = confusion_matrix(tv_Y_test, tv_svm_clf_pred, labels=[0,1])\n",
    "print (svm_cf_matrix)"
   ]
  },
  {
   "cell_type": "code",
   "execution_count": 19,
   "id": "578b56b2",
   "metadata": {},
   "outputs": [
    {
     "data": {
      "image/png": "[encoded data removed]",
      "text/plain": [
       "<Figure size 432x288 with 2 Axes>"
      ]
     },
     "metadata": {
      "needs_background": "light"
     },
     "output_type": "display_data"
    }
   ],
   "source": [
    "svm_plt_cf_matrix = sns.heatmap(svm_cf_matrix,annot=True, fmt='g', cmap='Blues')\n",
    "\n",
    "svm_plt_cf_matrix.xaxis.set_ticklabels(['Positive','Negative'])\n",
    "svm_plt_cf_matrix.yaxis.set_ticklabels(['Positive','Negative'])\n",
    "plt.show()"
   ]
  },
  {
   "cell_type": "markdown",
   "id": "a3085de9",
   "metadata": {},
   "source": [
    "# Prediction of new reviews"
   ]
  },
  {
   "cell_type": "code",
   "execution_count": 20,
   "id": "8a18139a",
   "metadata": {},
   "outputs": [],
   "source": [
    "custom_review='This is a good movie the action scenes are amazing. the acting is god tier. must recommend'\n",
    "\n",
    "custom_review2 = 'This movie is bad, the plot is terrible. I dont know why reputable actors choose scripts like these'"
   ]
  },
  {
   "cell_type": "code",
   "execution_count": 21,
   "id": "bf34e959",
   "metadata": {},
   "outputs": [],
   "source": [
    "def user_pred(x):\n",
    "    x = remove_noise(x)\n",
    "    x = [x]\n",
    "    x = tv.transform(x)\n",
    "    review = tv_svm_clf.predict(x)\n",
    "    \n",
    "    if review[0]==1:\n",
    "        ans = 'Positive'\n",
    "    if review[0]==0:\n",
    "        ans = 'Negative'\n",
    "        \n",
    "    return ans\n"
   ]
  },
  {
   "cell_type": "code",
   "execution_count": 22,
   "id": "053b1d38",
   "metadata": {},
   "outputs": [
    {
     "name": "stdout",
     "output_type": "stream",
     "text": [
      "the sentiment of the custom review 1 is Positive\n",
      "the sentiment of the custom review 2 is Negative\n"
     ]
    }
   ],
   "source": [
    "print ('the sentiment of the custom review 1 is',user_pred(custom_review))\n",
    "print ('the sentiment of the custom review 2 is',user_pred(custom_review2))"
   ]
  },
  {
   "cell_type": "markdown",
   "id": "5d60c0de",
   "metadata": {},
   "source": [
    "# Multinomial NB"
   ]
  },
  {
   "cell_type": "code",
   "execution_count": 23,
   "id": "5480f0d8",
   "metadata": {},
   "outputs": [
    {
     "data": {
      "text/plain": [
       "MultinomialNB()"
      ]
     },
     "execution_count": 23,
     "metadata": {},
     "output_type": "execute_result"
    }
   ],
   "source": [
    "from sklearn.naive_bayes import MultinomialNB\n",
    "\n",
    "tv_mnb = MultinomialNB()\n",
    "tv_mnb.fit(tv_X_train, tv_Y_train)"
   ]
  },
  {
   "cell_type": "code",
   "execution_count": 24,
   "id": "d70b5c7f",
   "metadata": {},
   "outputs": [],
   "source": [
    "tv_mnb_pred = tv_mnb.predict(tv_X_test)\n"
   ]
  },
  {
   "cell_type": "code",
   "execution_count": 25,
   "id": "9feeb8e0",
   "metadata": {},
   "outputs": [],
   "source": [
    "tv_mnb_accuracy_score = metrics.accuracy_score(tv_mnb_pred , tv_Y_test)"
   ]
  },
  {
   "cell_type": "code",
   "execution_count": 26,
   "id": "15999432",
   "metadata": {},
   "outputs": [
    {
     "name": "stdout",
     "output_type": "stream",
     "text": [
      "The accuracy score of tfidf model using multinomialNB is  85.7\n"
     ]
    }
   ],
   "source": [
    " print (\"The accuracy score of tfidf model using multinomialNB is \",tv_mnb_accuracy_score*100)"
   ]
  },
  {
   "cell_type": "code",
   "execution_count": 27,
   "id": "0af8cb23",
   "metadata": {},
   "outputs": [
    {
     "name": "stdout",
     "output_type": "stream",
     "text": [
      "Classification report for tfidf model using multinomial NB\n",
      "              precision    recall  f1-score   support\n",
      "\n",
      "    Negative       0.85      0.87      0.86      9989\n",
      "    Positive       0.87      0.84      0.85     10011\n",
      "\n",
      "    accuracy                           0.86     20000\n",
      "   macro avg       0.86      0.86      0.86     20000\n",
      "weighted avg       0.86      0.86      0.86     20000\n",
      "\n"
     ]
    }
   ],
   "source": [
    "print (\"Classification report for tfidf model using multinomial NB\")\n",
    "print (classification_report(tv_Y_test, tv_mnb_pred, target_names=target_names))"
   ]
  },
  {
   "cell_type": "code",
   "execution_count": 28,
   "id": "58e6c0e7",
   "metadata": {
    "scrolled": true
   },
   "outputs": [
    {
     "name": "stdout",
     "output_type": "stream",
     "text": [
      "The confusion matrix for Multinomial NB is\n",
      "[[8723 1266]\n",
      " [1594 8417]]\n"
     ]
    }
   ],
   "source": [
    "print(\"The confusion matrix for Multinomial NB is\")\n",
    "mnb_cf_matrix = confusion_matrix(tv_Y_test, tv_mnb_pred, labels=[0,1])\n",
    "print(mnb_cf_matrix)"
   ]
  },
  {
   "cell_type": "code",
   "execution_count": 29,
   "id": "8e8869d6",
   "metadata": {},
   "outputs": [
    {
     "data": {
      "image/png": "[encoded data removed]",
      "text/plain": [
       "<Figure size 432x288 with 2 Axes>"
      ]
     },
     "metadata": {
      "needs_background": "light"
     },
     "output_type": "display_data"
    }
   ],
   "source": [
    "mnb_plt_cf_matrix = sns.heatmap(mnb_cf_matrix,annot=True, fmt='g', cmap='Blues')\n",
    "\n",
    "mnb_plt_cf_matrix.xaxis.set_ticklabels(['Positive','Negative'])\n",
    "mnb_plt_cf_matrix.yaxis.set_ticklabels(['Positive','Negative'])\n",
    "plt.show()"
   ]
  },
  {
   "cell_type": "markdown",
   "id": "c043abb1",
   "metadata": {},
   "source": [
    "# Decision tree classifier"
   ]
  },
  {
   "cell_type": "code",
   "execution_count": 30,
   "id": "a4bc79a4",
   "metadata": {},
   "outputs": [
    {
     "data": {
      "text/plain": [
       "DecisionTreeClassifier(random_state=0)"
      ]
     },
     "execution_count": 30,
     "metadata": {},
     "output_type": "execute_result"
    }
   ],
   "source": [
    "from sklearn.tree import DecisionTreeClassifier\n",
    "\n",
    "tv_clf = DecisionTreeClassifier(random_state=0)\n",
    "\n",
    "tv_clf.fit(tv_X_train, tv_Y_train)\n"
   ]
  },
  {
   "cell_type": "code",
   "execution_count": 31,
   "id": "275a4a17",
   "metadata": {},
   "outputs": [],
   "source": [
    "tv_clf_pred = tv_clf.predict(tv_X_test)\n"
   ]
  },
  {
   "cell_type": "code",
   "execution_count": 32,
   "id": "c05aa480",
   "metadata": {},
   "outputs": [],
   "source": [
    "tv_clf_accuracy_score = metrics.accuracy_score(tv_clf_pred , tv_Y_test)"
   ]
  },
  {
   "cell_type": "code",
   "execution_count": 33,
   "id": "1c68710b",
   "metadata": {},
   "outputs": [
    {
     "name": "stdout",
     "output_type": "stream",
     "text": [
      "The accuracy score of tfidf model of decision tree classifier is  71.695\n"
     ]
    }
   ],
   "source": [
    "print (\"The accuracy score of tfidf model of decision tree classifier is \",(tv_clf_accuracy_score*100))"
   ]
  },
  {
   "cell_type": "code",
   "execution_count": 34,
   "id": "2c31c9f8",
   "metadata": {},
   "outputs": [
    {
     "name": "stdout",
     "output_type": "stream",
     "text": [
      "Classification report for tfidf model using Decision tree classifier\n",
      "              precision    recall  f1-score   support\n",
      "\n",
      "    Negative       0.72      0.72      0.72      9989\n",
      "    Positive       0.72      0.72      0.72     10011\n",
      "\n",
      "    accuracy                           0.72     20000\n",
      "   macro avg       0.72      0.72      0.72     20000\n",
      "weighted avg       0.72      0.72      0.72     20000\n",
      "\n"
     ]
    }
   ],
   "source": [
    "print (\"Classification report for tfidf model using Decision tree classifier\")\n",
    "print (classification_report(tv_Y_test, tv_clf_pred, target_names=target_names))"
   ]
  },
  {
   "cell_type": "code",
   "execution_count": 35,
   "id": "edbe33bc",
   "metadata": {
    "scrolled": true
   },
   "outputs": [
    {
     "name": "stdout",
     "output_type": "stream",
     "text": [
      "The confusion matrix for Decision tree classifier is\n",
      "[[7179 2810]\n",
      " [2851 7160]]\n"
     ]
    }
   ],
   "source": [
    "print(\"The confusion matrix for Decision tree classifier is\")\n",
    "clf_cf_matrix = confusion_matrix(tv_Y_test, tv_clf_pred, labels=[0,1])\n",
    "print (clf_cf_matrix)"
   ]
  },
  {
   "cell_type": "code",
   "execution_count": 36,
   "id": "61866957",
   "metadata": {},
   "outputs": [
    {
     "data": {
      "image/png": "[encoded data removed]",
      "text/plain": [
       "<Figure size 432x288 with 2 Axes>"
      ]
     },
     "metadata": {
      "needs_background": "light"
     },
     "output_type": "display_data"
    }
   ],
   "source": [
    "clf_plt_cf_matrix = sns.heatmap(clf_cf_matrix,annot=True, fmt='g', cmap='Blues')\n",
    "\n",
    "clf_plt_cf_matrix.xaxis.set_ticklabels(['Positive','Negative'])\n",
    "clf_plt_cf_matrix.yaxis.set_ticklabels(['Positive','Negative'])\n",
    "plt.show()"
   ]
  },
  {
   "cell_type": "markdown",
   "id": "ea958fdb",
   "metadata": {},
   "source": [
    "# Logistic Regression"
   ]
  },
  {
   "cell_type": "code",
   "execution_count": 37,
   "id": "55664f09",
   "metadata": {},
   "outputs": [
    {
     "data": {
      "text/plain": [
       "LogisticRegression()"
      ]
     },
     "execution_count": 37,
     "metadata": {},
     "output_type": "execute_result"
    }
   ],
   "source": [
    "from sklearn.linear_model import LogisticRegression\n",
    "\n",
    "lr = LogisticRegression()\n",
    "\n",
    "lr.fit(tv_X_train, tv_Y_train)\n",
    "\n"
   ]
  },
  {
   "cell_type": "code",
   "execution_count": 38,
   "id": "27f17f91",
   "metadata": {},
   "outputs": [],
   "source": [
    "tv_lr_pred = lr.predict(tv_X_test)"
   ]
  },
  {
   "cell_type": "code",
   "execution_count": 39,
   "id": "42e1febd",
   "metadata": {},
   "outputs": [],
   "source": [
    "tv_lr_accuracy_score = metrics.accuracy_score(tv_lr_pred , tv_Y_test)"
   ]
  },
  {
   "cell_type": "code",
   "execution_count": 40,
   "id": "7b8f48ea",
   "metadata": {},
   "outputs": [
    {
     "name": "stdout",
     "output_type": "stream",
     "text": [
      "The accuracy score of tfidf model of decision tree classifier is  88.675\n"
     ]
    }
   ],
   "source": [
    "print (\"The accuracy score of tfidf model of decision tree classifier is \",tv_lr_accuracy_score*100)"
   ]
  },
  {
   "cell_type": "code",
   "execution_count": 41,
   "id": "ae219411",
   "metadata": {},
   "outputs": [
    {
     "name": "stdout",
     "output_type": "stream",
     "text": [
      "Classification report for tfidf model using Logistic Regression classifier is \n",
      "              precision    recall  f1-score   support\n",
      "\n",
      "    Negative       0.90      0.87      0.89      9989\n",
      "    Positive       0.88      0.90      0.89     10011\n",
      "\n",
      "    accuracy                           0.89     20000\n",
      "   macro avg       0.89      0.89      0.89     20000\n",
      "weighted avg       0.89      0.89      0.89     20000\n",
      "\n"
     ]
    }
   ],
   "source": [
    "print (\"Classification report for tfidf model using Logistic Regression classifier is \")\n",
    "print (classification_report(tv_Y_test, tv_lr_pred, target_names=target_names))"
   ]
  },
  {
   "cell_type": "code",
   "execution_count": 42,
   "id": "3f4d63ec",
   "metadata": {},
   "outputs": [
    {
     "name": "stdout",
     "output_type": "stream",
     "text": [
      "The confusion matrix for Logistic Regression classifier is \n",
      "[[8716 1273]\n",
      " [ 992 9019]]\n"
     ]
    }
   ],
   "source": [
    "print(\"The confusion matrix for Logistic Regression classifier is \")\n",
    "lr_cf_matrix = confusion_matrix(tv_Y_test, tv_lr_pred, labels=[0,1])\n",
    "print(lr_cf_matrix)"
   ]
  },
  {
   "cell_type": "code",
   "execution_count": 43,
   "id": "a93616ba",
   "metadata": {},
   "outputs": [
    {
     "data": {
      "image/png": "[encoded data removed]",
      "text/plain": [
       "<Figure size 432x288 with 2 Axes>"
      ]
     },
     "metadata": {
      "needs_background": "light"
     },
     "output_type": "display_data"
    }
   ],
   "source": [
    "lr_plt_cf_matrix = sns.heatmap(lr_cf_matrix,annot=True, fmt='g', cmap='Blues')\n",
    "\n",
    "lr_plt_cf_matrix.xaxis.set_ticklabels(['Positive','Negative'])\n",
    "lr_plt_cf_matrix.yaxis.set_ticklabels(['Positive','Negative'])\n",
    "plt.show()"
   ]
  },
  {
   "cell_type": "markdown",
   "id": "28f2ec7f",
   "metadata": {},
   "source": [
    "# Random Forest classifier"
   ]
  },
  {
   "cell_type": "code",
   "execution_count": 44,
   "id": "1495a980",
   "metadata": {},
   "outputs": [
    {
     "data": {
      "text/plain": [
       "RandomForestClassifier()"
      ]
     },
     "execution_count": 44,
     "metadata": {},
     "output_type": "execute_result"
    }
   ],
   "source": [
    "from sklearn.ensemble import RandomForestClassifier\n",
    "\n",
    "rc = RandomForestClassifier()\n",
    "\n",
    "rc.fit(tv_X_train, tv_Y_train)\n"
   ]
  },
  {
   "cell_type": "code",
   "execution_count": 45,
   "id": "483efa77",
   "metadata": {},
   "outputs": [],
   "source": [
    "rc_pred = rc.predict(tv_X_test)"
   ]
  },
  {
   "cell_type": "code",
   "execution_count": 46,
   "id": "491eaa32",
   "metadata": {},
   "outputs": [],
   "source": [
    "rc_accuracy_score = metrics.accuracy_score(rc_pred , tv_Y_test)"
   ]
  },
  {
   "cell_type": "code",
   "execution_count": 47,
   "id": "d3d2b078",
   "metadata": {},
   "outputs": [
    {
     "name": "stdout",
     "output_type": "stream",
     "text": [
      "The accuracy score of tfidf model of Random forest classifier is  84.16\n"
     ]
    }
   ],
   "source": [
    "print (\"The accuracy score of tfidf model of Random forest classifier is \",rc_accuracy_score*100)"
   ]
  },
  {
   "cell_type": "code",
   "execution_count": 48,
   "id": "8e762a6e",
   "metadata": {},
   "outputs": [
    {
     "name": "stdout",
     "output_type": "stream",
     "text": [
      "Classification report for tfidf model using Random forest Classifier is \n",
      "              precision    recall  f1-score   support\n",
      "\n",
      "    Negative       0.84      0.84      0.84      9989\n",
      "    Positive       0.84      0.85      0.84     10011\n",
      "\n",
      "    accuracy                           0.84     20000\n",
      "   macro avg       0.84      0.84      0.84     20000\n",
      "weighted avg       0.84      0.84      0.84     20000\n",
      "\n"
     ]
    }
   ],
   "source": [
    "print (\"Classification report for tfidf model using Random forest Classifier is \")\n",
    "print (classification_report(tv_Y_test, rc_pred, target_names=target_names))"
   ]
  },
  {
   "cell_type": "code",
   "execution_count": 49,
   "id": "9cfabfd7",
   "metadata": {},
   "outputs": [
    {
     "name": "stdout",
     "output_type": "stream",
     "text": [
      "The confusion matrix for Random forest classifier is \n",
      "[[8372 1617]\n",
      " [1551 8460]]\n"
     ]
    }
   ],
   "source": [
    "print(\"The confusion matrix for Random forest classifier is \")\n",
    "rc_cf_matrix = confusion_matrix(tv_Y_test, rc_pred, labels=[0,1])\n",
    "print(rc_cf_matrix)"
   ]
  },
  {
   "cell_type": "code",
   "execution_count": 50,
   "id": "ed3ebfd9",
   "metadata": {},
   "outputs": [
    {
     "data": {
      "image/png": "[encoded data removed]",
      "text/plain": [
       "<Figure size 432x288 with 2 Axes>"
      ]
     },
     "metadata": {
      "needs_background": "light"
     },
     "output_type": "display_data"
    }
   ],
   "source": [
    "rc_plt_cf_matrix = sns.heatmap(rc_cf_matrix,annot=True, fmt='g', cmap='Blues')\n",
    "\n",
    "lr_plt_cf_matrix.xaxis.set_ticklabels(['Positive','Negative'])\n",
    "lr_plt_cf_matrix.yaxis.set_ticklabels(['Positive','Negative'])\n",
    "plt.show()"
   ]
  },
  {
   "cell_type": "code",
   "execution_count": null,
   "id": "49517c59",
   "metadata": {},
   "outputs": [],
   "source": []
  }
 ],
 "metadata": {
  "kernelspec": {
   "display_name": "Python 3 (ipykernel)",
   "language": "python",
   "name": "python3"
  },
  "language_info": {
   "codemirror_mode": {
    "name": "ipython",
    "version": 3
   },
   "file_extension": ".py",
   "mimetype": "text/x-python",
   "name": "python",
   "nbconvert_exporter": "python",
   "pygments_lexer": "ipython3",
   "version": "3.9.12"
  }
 },
 "nbformat": 4,
 "nbformat_minor": 5
}
